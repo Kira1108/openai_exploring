{
  "cells": [
    {
      "cell_type": "markdown",
      "metadata": {
        "id": "view-in-github",
        "colab_type": "text"
      },
      "source": [
        "<a href=\"https://colab.research.google.com/github/Kira1108/openai_exploring/blob/main/FineTune_GPT.ipynb\" target=\"_parent\"><img src=\"https://colab.research.google.com/assets/colab-badge.svg\" alt=\"Open In Colab\"/></a>"
      ]
    },
    {
      "cell_type": "code",
      "execution_count": 62,
      "metadata": {
        "colab": {
          "base_uri": "https://localhost:8080/"
        },
        "id": "Sicj6SSQECRy",
        "outputId": "7c7ccc46-241a-44b5-9064-939d0394d1ca"
      },
      "outputs": [
        {
          "output_type": "stream",
          "name": "stdout",
          "text": [
            "Looking in indexes: https://pypi.org/simple, https://us-python.pkg.dev/colab-wheels/public/simple/\n",
            "Requirement already satisfied: openai in /usr/local/lib/python3.8/dist-packages (0.26.1)\n",
            "Requirement already satisfied: tqdm in /usr/local/lib/python3.8/dist-packages (from openai) (4.64.1)\n",
            "Requirement already satisfied: requests>=2.20 in /usr/local/lib/python3.8/dist-packages (from openai) (2.25.1)\n",
            "Requirement already satisfied: aiohttp in /usr/local/lib/python3.8/dist-packages (from openai) (3.8.3)\n",
            "Requirement already satisfied: idna<3,>=2.5 in /usr/local/lib/python3.8/dist-packages (from requests>=2.20->openai) (2.10)\n",
            "Requirement already satisfied: urllib3<1.27,>=1.21.1 in /usr/local/lib/python3.8/dist-packages (from requests>=2.20->openai) (1.24.3)\n",
            "Requirement already satisfied: chardet<5,>=3.0.2 in /usr/local/lib/python3.8/dist-packages (from requests>=2.20->openai) (4.0.0)\n",
            "Requirement already satisfied: certifi>=2017.4.17 in /usr/local/lib/python3.8/dist-packages (from requests>=2.20->openai) (2022.12.7)\n",
            "Requirement already satisfied: async-timeout<5.0,>=4.0.0a3 in /usr/local/lib/python3.8/dist-packages (from aiohttp->openai) (4.0.2)\n",
            "Requirement already satisfied: yarl<2.0,>=1.0 in /usr/local/lib/python3.8/dist-packages (from aiohttp->openai) (1.8.2)\n",
            "Requirement already satisfied: attrs>=17.3.0 in /usr/local/lib/python3.8/dist-packages (from aiohttp->openai) (22.2.0)\n",
            "Requirement already satisfied: frozenlist>=1.1.1 in /usr/local/lib/python3.8/dist-packages (from aiohttp->openai) (1.3.3)\n",
            "Requirement already satisfied: charset-normalizer<3.0,>=2.0 in /usr/local/lib/python3.8/dist-packages (from aiohttp->openai) (2.1.1)\n",
            "Requirement already satisfied: aiosignal>=1.1.2 in /usr/local/lib/python3.8/dist-packages (from aiohttp->openai) (1.3.1)\n",
            "Requirement already satisfied: multidict<7.0,>=4.5 in /usr/local/lib/python3.8/dist-packages (from aiohttp->openai) (6.0.4)\n"
          ]
        }
      ],
      "source": [
        "!pip install openai\n",
        "!mkdir -p data"
      ]
    },
    {
      "cell_type": "code",
      "execution_count": null,
      "metadata": {
        "colab": {
          "base_uri": "https://localhost:8080/"
        },
        "id": "TAP98RyqangX",
        "outputId": "3877dd7e-d91b-42d1-925c-50f7fb1269b1"
      },
      "outputs": [
        {
          "name": "stdout",
          "output_type": "stream",
          "text": [
            "Reading data from txt file data/zhihu_data.txt\n",
            "Saving csv file data/train.csv\n",
            "Saving jsonl file data/train.jsonl\n"
          ]
        }
      ],
      "source": [
        "from pathlib import Path\n",
        "import json\n",
        "import pandas as pd\n",
        "from typing import Dict, List\n",
        "from sys import argv\n",
        "\n",
        "data_file = Path('data') / 'zhihu_data.txt'\n",
        "jsonl_file = Path('data') / 'train.jsonl'\n",
        "csv_file = Path('data') / 'train.csv'\n",
        "\n",
        "def read_data(path = data_file) -> List[Dict[str, str]]:\n",
        "    with open(path,'r') as f:\n",
        "        return [json.loads(line) for line in f]\n",
        "\n",
        "def to_csv(data:List[Dict[str, str]], path = csv_file, n = None):\n",
        "    df = pd.DataFrame(data)[['question','content']].rename(\n",
        "    columns = {'question':'prompt','content':'completion'})\n",
        "    if n:\n",
        "        df = df.head(n).copy()\n",
        "    df.to_csv(path, index = False)\n",
        "\n",
        "def to_jsonl(data:List[Dict[str, str]], path = jsonl_file, n = None):\n",
        "    df = pd.DataFrame(data)[['question','content']].rename(\n",
        "    columns = {'question':'prompt','content':'completion'})\n",
        "    if n:\n",
        "        df = df.head(n).copy()\n",
        "    df.to_json(path, force_ascii=False, orient='records',lines = True)\n",
        "\n",
        "N = 200\n",
        "\n",
        "print(\"Reading data from txt file\", data_file)\n",
        "data = read_data()[:N]\n",
        "print(\"Saving csv file\", csv_file)\n",
        "to_csv(data)\n",
        "print(\"Saving jsonl file\", jsonl_file)\n",
        "to_jsonl(data)"
      ]
    },
    {
      "cell_type": "markdown",
      "source": [
        "## Train OpenAI GPT models\n",
        "\n",
        "**Open a terminal and run the following commands.**"
      ],
      "metadata": {
        "id": "kA2Kzp4u-C4u"
      }
    },
    {
      "cell_type": "code",
      "execution_count": 64,
      "metadata": {
        "id": "B5935J50bSVJ"
      },
      "outputs": [],
      "source": [
        "# export OPENAI_API_KEY=\"your_openai_api_KEY\"\n",
        "# openai tools fine_tunes.prepare_data -f data/train.csv\n",
        "# openai api fine_tunes.create -t data/train_prepared.jsonl -m davinci"
      ]
    },
    {
      "cell_type": "markdown",
      "metadata": {
        "id": "TXRKyfRMcU-b"
      },
      "source": [
        "美妆60条: `davinci:ft-personal-2023-01-14-07-29-11`   \n",
        "\n",
        "如何200条： `davinci:ft-personal-2023-01-14-08-56-08`"
      ]
    },
    {
      "cell_type": "code",
      "execution_count": 65,
      "metadata": {
        "id": "KQCdzki7EHXj"
      },
      "outputs": [],
      "source": [
        "import openai\n",
        "openai.api_key = \"sk-something\""
      ]
    },
    {
      "cell_type": "code",
      "execution_count": 89,
      "metadata": {
        "id": "xKJfwD0BMg_p"
      },
      "outputs": [],
      "source": [
        "import os\n",
        "import openai\n",
        "\n",
        "def qa(question, n = 10, custom = True,temperature = 0.8):\n",
        "\n",
        "    model = \"davinci:ft-personal-2023-01-14-08-56-08\" if custom else \"text-davinci-003\"\n",
        "    for i in range(n):\n",
        "        obj = openai.Completion.create(\n",
        "        model=model,\n",
        "        prompt=question + \"？\",\n",
        "        max_tokens=200,\n",
        "        temperature=temperature,\n",
        "        stop = [\"END\"]\n",
        "        )\n",
        "        print(\"-\" * 30,\"Answer {}\".format(i + 1), \"-\"*30)\n",
        "        print(obj.choices[0]['text'],\"\\n\")"
      ]
    },
    {
      "cell_type": "code",
      "source": [
        "qa(\"如何评价各种python培训机构\", temperature = 0.3)"
      ],
      "metadata": {
        "colab": {
          "base_uri": "https://localhost:8080/"
        },
        "id": "29S2rVuiVzah",
        "outputId": "5fb284b0-8499-4c6a-b0bb-58ff3d3bb9ea"
      },
      "execution_count": 109,
      "outputs": [
        {
          "output_type": "stream",
          "name": "stdout",
          "text": [
            "------------------------------ Answer 1 ------------------------------\n",
            " 其实我觉得这个问题问的有点偏激，因为我们不应该认为培训机构是为了欺骗你，而是因为他们的缘故而造成的。我们不要忘记，培训机构是为了赚钱，而不是为了教你python。他们需要赚钱，所以他们需要吸引你， \n",
            "\n",
            "------------------------------ Answer 2 ------------------------------\n",
            " 以前在北京一家公司做过python培训，现在回想起来，那简直就是一个虚拟的网状拟人。。。。。。。。。。。。。。。。。。。。。。。。。。。。。。。。。。。。。。。。。。。。。。。。。。。。。。。。。。。。。。。。。。。。。。。。。。。。。。。。。。。。。。。。。。。。。。。。。。。。。。。。。。。。。。。。。。。。。  \n",
            "\n",
            "------------------------------ Answer 3 ------------------------------\n",
            " 以下为自己的经验，望各位不吝赐教。 一直以来，我都认为，Python培训机构的最大问题，就是没有一个能够真正把Python教好。我自己也在一些培训机构做过老师，但是，我也深刻体会到，这种教不好Python的原因，有很大一部 \n",
            "\n",
            "------------------------------ Answer 4 ------------------------------\n",
            " 我是在百度上看到的，没有打广告的意思，我是在百度上看到的，没有打广告的意思，我是在百度上看到的，没有打广告的意思，我是在百度上看到的，没有打广告的意思，我是在百度上看到的，没有打广告的意思，我是在百 \n",
            "\n",
            "------------------------------ Answer 5 ------------------------------\n",
            " 其实我觉得不管哪个培训机构，都是有优点有缺点的。比如我就在一家培训机构上过课，老师很不错，但是课程设置有点问题，而且学生很多，讲课的时候讲不下去，学生就会一直问，而且学生很多，上课的时 \n",
            "\n",
            "------------------------------ Answer 6 ------------------------------\n",
            " 我在上海，最近看到很多推广一家培训机构的帖子，有点惊讶，这个培训机构不是今年才刚刚开业吗？怎么会有这么多人推广？我就有点怀疑这家培训机构是不是真的这么好？我们公司有几个同事都在上这个培训 \n",
            "\n",
            "------------------------------ Answer 7 ------------------------------\n",
            " 以下回答来自知乎，原文地址：https://zhuanlan.zhihu.com/p/24557531 从我的角度，我们团队的程序员在毕业之前，都是在一家培训机构学习的，我们团队的程序员都是在这家培训机构学习Python的，现在团队里大部分人都在用Python，所以 \n",
            "\n",
            "------------------------------ Answer 8 ------------------------------\n",
            " 我在北京做过python培训，现在在深圳做python培训，有点感受。其实做python培训的机构，基本上都是把自己的模块化课程拼凑起来的，有的课程讲的很好，有的课程讲的很烂，有的课程讲的很深，有的课程讲的很 \n",
            "\n",
            "------------------------------ Answer 9 ------------------------------\n",
            " 以前在一家公司，有个同事推荐了一个培训机构，说是全国最好的python培训机构，邀请我去参加他们的一个免费公开课。我去了，发现其实是一个非常低级的培训机构，老师只会说一些基础的东西，比如说print，if， \n",
            "\n",
            "------------------------------ Answer 10 ------------------------------\n",
            " 以下回答来自知乎，现在已经被删除了。回答者表示，现在的情况是：答案被删除，账号被封，论坛被黑。据说，账号被封是因为答案中出现了“推荐公司”，而论坛被黑是因为答案中出现了“ \n",
            "\n"
          ]
        }
      ]
    },
    {
      "cell_type": "code",
      "source": [
        "qa(\"如何评价各种python培训机构\", custom = False, temperature = 0.3)"
      ],
      "metadata": {
        "colab": {
          "base_uri": "https://localhost:8080/"
        },
        "id": "XroRo3pF_sv-",
        "outputId": "568c87c1-ff98-47f1-af8f-cabc34118dd0"
      },
      "execution_count": 110,
      "outputs": [
        {
          "output_type": "stream",
          "name": "stdout",
          "text": [
            "------------------------------ Answer 1 ------------------------------\n",
            "\n",
            "\n",
            "Python培训机构的评价取决于学员的学习需求和机构的教学质量。学员可以根据自己的学习目标，结合机构的课程内容、教学方式、师资力量等因素，来进行选择。此外，学员还可以参考机构的口碑，了解其学员的学习 \n",
            "\n",
            "------------------------------ Answer 2 ------------------------------\n",
            "\n",
            "\n",
            "Python培训机构的评价取决于课程质量、教学质量、学习环境、服务质量等几个方面。\n",
            "\n",
            "首先，课程质量是衡量一个培训机构的重要标准，课程内容要有足够的深度和广度，能够满足学员的学习需求，比如，Python \n",
            "\n",
            "------------------------------ Answer 3 ------------------------------\n",
            "\n",
            "\n",
            "Python培训机构的评价取决于学员的学习需求和期望，不同的机构可能有不同的优势和劣势。一般来说，培训机构的评价可以从以下几个方面来衡量：\n",
            "\n",
            "1. 教学质量：教学质量是最重要的评价指标，可以从教师的资质、教 \n",
            "\n",
            "------------------------------ Answer 4 ------------------------------\n",
            "\n",
            "\n",
            "Python培训机构的评价取决于学员的需求和机构的实力。学员需要根据自己的学习目标、学习进度、学习方式等因素来选择合适的机构。一般来说，质量较高的Python培训机构应该具备以下几个方面：\n",
            "\n",
            "1. 拥有丰富的教学经 \n",
            "\n",
            "------------------------------ Answer 5 ------------------------------\n",
            "\n",
            "\n",
            "Python培训机构的评价取决于机构的实力和服务水平。一般来说，好的Python培训机构应该有经验丰富的教师，提供专业的课程，有完善的学习环境和设施，并且能够提供实践性的实训机会，以帮助学员更好地掌 \n",
            "\n",
            "------------------------------ Answer 6 ------------------------------\n",
            "\n",
            "\n",
            "Python培训机构的评价取决于他们的教学质量，课程内容，教师经验，学习环境，学习资源，学习支持等。有些机构提供优质的教学质量，有助于学生更好地掌握Python编程语言；有些机构提供丰富的课 \n",
            "\n",
            "------------------------------ Answer 7 ------------------------------\n",
            "\n",
            "\n",
            "Python培训机构的评价取决于其课程内容、教学质量、学习环境等因素。首先，要确保课程内容覆盖Python的基础知识、核心技能和最新技术，以及足够的实践机会，以帮助学生更好地掌握Python语言。其次，教学质量 \n",
            "\n",
            "------------------------------ Answer 8 ------------------------------\n",
            "\n",
            "\n",
            "Python培训机构的评价取决于它们的教学质量、课程内容、教学方法、师资力量等因素。只有当这些因素都得到满意的评价，才能说明一家Python培训机构是优秀的。 \n",
            "\n",
            "------------------------------ Answer 9 ------------------------------\n",
            "\n",
            "\n",
            "Python培训机构的评价取决于它们的教学质量和服务水平。一般来说，一个好的Python培训机构应该拥有丰富的教学经验，拥有经验丰富的教师，提供全面的培训课程，提供实用的实践项目，提供专业的技术支 \n",
            "\n",
            "------------------------------ Answer 10 ------------------------------\n",
            "\n",
            "\n",
            "Python培训机构的评价取决于学员的学习需求和培训机构的实力。学员应根据自己的学习需求，选择最适合自己的培训机构，以确保学习效果。一般来说，良好的Python培训机构应该具备以下几点：\n",
            "\n",
            "1. 具备丰富的Python \n",
            "\n"
          ]
        }
      ]
    }
  ],
  "metadata": {
    "colab": {
      "provenance": [],
      "authorship_tag": "ABX9TyP9dsSO7Kty31YE+J1w3mwY",
      "include_colab_link": true
    },
    "kernelspec": {
      "display_name": "Python 3",
      "name": "python3"
    },
    "language_info": {
      "name": "python"
    }
  },
  "nbformat": 4,
  "nbformat_minor": 0
}